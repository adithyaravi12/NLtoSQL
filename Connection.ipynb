{
 "cells": [
  {
   "cell_type": "code",
   "execution_count": 27,
   "id": "b1eeb330",
   "metadata": {},
   "outputs": [
    {
     "name": "stdout",
     "output_type": "stream",
     "text": [
      "Connected to SQL Server successfully!\n"
     ]
    }
   ],
   "source": [
    "import pyodbc\n",
    "with open(\"db_connection.txt\", \"r\") as f:\n",
    "    conn_str = f.read()\n",
    "conn = pyodbc.connect(conn_str)\n",
    "\n",
    "print(\"Connected to SQL Server successfully!\")"
   ]
  },
  {
   "cell_type": "code",
   "execution_count": 28,
   "id": "fbe35d1a",
   "metadata": {},
   "outputs": [],
   "source": [
    "cursor = conn.cursor()\n",
    "\n",
    "# cursor.execute(\"SELECT TABLE_NAME FROM INFORMATION_SCHEMA.TABLES WHERE TABLE_TYPE = 'BASE TABLE'\")\n",
    "# tables = cursor.fetchall()\n",
    "\n",
    "# for table in tables:\n",
    "#     print(table[0])"
   ]
  },
  {
   "cell_type": "code",
   "execution_count": 29,
   "id": "eaf04f93",
   "metadata": {},
   "outputs": [],
   "source": [
    "# pip install import_ipynb"
   ]
  },
  {
   "cell_type": "code",
   "execution_count": 30,
   "id": "c2820870",
   "metadata": {},
   "outputs": [],
   "source": [
    "import import_ipynb\n",
    "import NLtoSQL\n",
    "import pandas as pd"
   ]
  },
  {
   "cell_type": "code",
   "execution_count": 36,
   "id": "914a0326",
   "metadata": {},
   "outputs": [],
   "source": [
    "def exe_sql(prompt):\n",
    "    try:\n",
    "        sql_query = NLtoSQL.generate_sql(prompt)\n",
    "        print(\"\\nGenerated SQL Query:\\n\", sql_query)\n",
    "        cursor.execute(sql_query)\n",
    "        results = cursor.fetchall()\n",
    "        \n",
    "#         print(\"\\nRaw Query Results:\")\n",
    "#         for row in results:\n",
    "#             print(row)\n",
    "            \n",
    "        columns = [column[0] for column in cursor.description]\n",
    "#         print(columns)\n",
    "\n",
    "#         df = pd.DataFrame(results, columns=columns)\n",
    "        df = pd.DataFrame.from_records(results, columns=columns)\n",
    "#         print(\"\\nDataFrame Shape:\", df.shape)\n",
    "#         print(\"\\nDataFrame Preview:\\n\", df.head()) \n",
    "\n",
    "        return df\n",
    "\n",
    "    except Exception as e:\n",
    "        return f\"Error executing query: {str(e)}\""
   ]
  },
  {
   "cell_type": "code",
   "execution_count": 37,
   "id": "fec68906",
   "metadata": {},
   "outputs": [
    {
     "name": "stdout",
     "output_type": "stream",
     "text": [
      "\n",
      "Enter your query in natural language: Display top 10 product id, producct name and sum of their total sales\n",
      "\n",
      "Generated SQL Query:\n",
      " SELECT TOP 10 p.Product_ID, p.Product_Name, SUM(s.Units) AS Total_Sales\n",
      "FROM products p\n",
      "JOIN sales s ON p.Product_ID = s.Product_ID\n",
      "GROUP BY p.Product_ID, p.Product_Name\n",
      "ORDER BY Total_Sales DESC;\n",
      "\n",
      "Query Results:\n"
     ]
    },
    {
     "data": {
      "text/html": [
       "<div>\n",
       "<style scoped>\n",
       "    .dataframe tbody tr th:only-of-type {\n",
       "        vertical-align: middle;\n",
       "    }\n",
       "\n",
       "    .dataframe tbody tr th {\n",
       "        vertical-align: top;\n",
       "    }\n",
       "\n",
       "    .dataframe thead th {\n",
       "        text-align: right;\n",
       "    }\n",
       "</style>\n",
       "<table border=\"1\" class=\"dataframe\">\n",
       "  <thead>\n",
       "    <tr style=\"text-align: right;\">\n",
       "      <th></th>\n",
       "      <th>Product_ID</th>\n",
       "      <th>Product_Name</th>\n",
       "      <th>Total_Sales</th>\n",
       "    </tr>\n",
       "  </thead>\n",
       "  <tbody>\n",
       "    <tr>\n",
       "      <th>0</th>\n",
       "      <td>6</td>\n",
       "      <td>Colorbuds</td>\n",
       "      <td>104368</td>\n",
       "    </tr>\n",
       "    <tr>\n",
       "      <th>1</th>\n",
       "      <td>25</td>\n",
       "      <td>PlayDoh Can</td>\n",
       "      <td>103128</td>\n",
       "    </tr>\n",
       "    <tr>\n",
       "      <th>2</th>\n",
       "      <td>3</td>\n",
       "      <td>Barrel O' Slime</td>\n",
       "      <td>91663</td>\n",
       "    </tr>\n",
       "    <tr>\n",
       "      <th>3</th>\n",
       "      <td>8</td>\n",
       "      <td>Deck Of Cards</td>\n",
       "      <td>84034</td>\n",
       "    </tr>\n",
       "    <tr>\n",
       "      <th>4</th>\n",
       "      <td>19</td>\n",
       "      <td>Magic Sand</td>\n",
       "      <td>60598</td>\n",
       "    </tr>\n",
       "    <tr>\n",
       "      <th>5</th>\n",
       "      <td>31</td>\n",
       "      <td>Splash Balls</td>\n",
       "      <td>60248</td>\n",
       "    </tr>\n",
       "    <tr>\n",
       "      <th>6</th>\n",
       "      <td>18</td>\n",
       "      <td>Lego Bricks</td>\n",
       "      <td>59737</td>\n",
       "    </tr>\n",
       "    <tr>\n",
       "      <th>7</th>\n",
       "      <td>1</td>\n",
       "      <td>Action Figure</td>\n",
       "      <td>57958</td>\n",
       "    </tr>\n",
       "    <tr>\n",
       "      <th>8</th>\n",
       "      <td>30</td>\n",
       "      <td>Rubik's Cube</td>\n",
       "      <td>45672</td>\n",
       "    </tr>\n",
       "    <tr>\n",
       "      <th>9</th>\n",
       "      <td>2</td>\n",
       "      <td>Animal Figures</td>\n",
       "      <td>39089</td>\n",
       "    </tr>\n",
       "  </tbody>\n",
       "</table>\n",
       "</div>"
      ],
      "text/plain": [
       "   Product_ID     Product_Name  Total_Sales\n",
       "0           6        Colorbuds       104368\n",
       "1          25      PlayDoh Can       103128\n",
       "2           3  Barrel O' Slime        91663\n",
       "3           8    Deck Of Cards        84034\n",
       "4          19       Magic Sand        60598\n",
       "5          31     Splash Balls        60248\n",
       "6          18      Lego Bricks        59737\n",
       "7           1    Action Figure        57958\n",
       "8          30     Rubik's Cube        45672\n",
       "9           2   Animal Figures        39089"
      ]
     },
     "metadata": {},
     "output_type": "display_data"
    }
   ],
   "source": [
    "prompt = input(\"\\nEnter your query in natural language: \")\n",
    "query_results = exe_sql(prompt)\n",
    "\n",
    "if isinstance(query_results, pd.DataFrame):\n",
    "    print(\"\\nQuery Results:\")\n",
    "    display(query_results)\n",
    "else:\n",
    "    print(query_results)"
   ]
  },
  {
   "cell_type": "code",
   "execution_count": null,
   "id": "b62f2e42",
   "metadata": {},
   "outputs": [],
   "source": []
  }
 ],
 "metadata": {
  "kernelspec": {
   "display_name": "Python 3 (ipykernel)",
   "language": "python",
   "name": "python3"
  },
  "language_info": {
   "codemirror_mode": {
    "name": "ipython",
    "version": 3
   },
   "file_extension": ".py",
   "mimetype": "text/x-python",
   "name": "python",
   "nbconvert_exporter": "python",
   "pygments_lexer": "ipython3",
   "version": "3.9.7"
  }
 },
 "nbformat": 4,
 "nbformat_minor": 5
}
