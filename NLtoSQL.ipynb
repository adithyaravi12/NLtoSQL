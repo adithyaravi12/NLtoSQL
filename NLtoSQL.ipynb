{
 "cells": [
  {
   "cell_type": "code",
   "execution_count": 1,
   "id": "4b638267",
   "metadata": {},
   "outputs": [],
   "source": [
    "# pip install openai"
   ]
  },
  {
   "cell_type": "code",
   "execution_count": 2,
   "id": "d23d8e97",
   "metadata": {},
   "outputs": [],
   "source": [
    "import openai\n",
    "\n",
    "client = openai.OpenAI(api_key=\"\")"
   ]
  },
  {
   "cell_type": "code",
   "execution_count": 3,
   "id": "c23cfdcd",
   "metadata": {},
   "outputs": [],
   "source": [
    "def generate_sql(prompt):\n",
    "    try:\n",
    "        response = client.chat.completions.create(\n",
    "            model=\"gpt-3.5-turbo\", \n",
    "            messages=[\n",
    "                {\"role\": \"system\", \"content\": \"\"\"\n",
    "                You are an expert SQL assistantspecialized in Microsoft SQL Server T-SQL. Convert natural language requests into T-SQL queries that run on that run on SQL Server Management Studio based on the following database schema:\n",
    "\n",
    "                Ensure that:\n",
    "                    - Queries follow T-SQL syntax (e.g., use `TOP` instead of `LIMIT`).\n",
    "                    - Use `GETDATE()` for date-based queries instead of `CURRENT_DATE`.\n",
    "                    - Ensure column names match the schema.\n",
    "                    - Use INNER JOIN, LEFT JOIN, RIGHT JOIN where necessary.\n",
    "                    - Avoid non-supported SQL functions from MySQL or PostgreSQL.\n",
    "                \n",
    "                Tables:\n",
    "                1. sales (Sale_ID, Store_ID, Product_ID, Units, Date)\n",
    "                   - Stores sales transactions for each store.\n",
    "                   - `Units` column stores the quantity of products sold.\n",
    "                \n",
    "                2. products (Product_ID, Product_Name, Product_Category, Product_Cost, Product_Price)\n",
    "                   - Stores product details including cost and selling price.\n",
    "\n",
    "                3. stores (Store_ID, Store_Name, Store_City, Store_Location, Store_Open_Date)\n",
    "                   - Stores information about each store.\n",
    "\n",
    "                4. inventory (Store_ID, Product_ID, Stock_On_Hand)\n",
    "                   - Keeps track of product stock levels in each store.\n",
    "\n",
    "                Ensure the generated SQL query adheres to this schema and uses JOINs where necessary.\n",
    "                Return only the SQL query and no additional text.\n",
    "                \"\"\"},\n",
    "                {\"role\": \"user\", \"content\": f\"Convert the following request into an SQL query: {prompt}\"}\n",
    "            ],\n",
    "            temperature=0.2,\n",
    "        )\n",
    "\n",
    "        sql_query = response.choices[0].message.content.strip()\n",
    "\n",
    "        if sql_query.startswith(\"```sql\"):\n",
    "            sql_query = sql_query[6:] \n",
    "        if sql_query.endswith(\"```\"):\n",
    "            sql_query = sql_query[:-3]\n",
    "\n",
    "        return sql_query.strip()  \n",
    "    except Exception as e:\n",
    "        return f\"Error generating SQL query: {str(e)}\"\n"
   ]
  },
  {
   "cell_type": "code",
   "execution_count": 4,
   "id": "5072f5b4",
   "metadata": {},
   "outputs": [],
   "source": [
    "# prompt = \"Retrieve the names and total sales of the top 5 products from the sales table.\"\n",
    "# print(prompt)"
   ]
  },
  {
   "cell_type": "code",
   "execution_count": 5,
   "id": "75c925ec",
   "metadata": {},
   "outputs": [],
   "source": [
    "# sql_query = generate_sql(prompt)\n",
    "\n",
    "# print(\"Generated SQL Query:\")\n",
    "# print(sql_query)"
   ]
  },
  {
   "cell_type": "code",
   "execution_count": null,
   "id": "d95c7158",
   "metadata": {},
   "outputs": [],
   "source": []
  }
 ],
 "metadata": {
  "kernelspec": {
   "display_name": "Python 3 (ipykernel)",
   "language": "python",
   "name": "python3"
  },
  "language_info": {
   "codemirror_mode": {
    "name": "ipython",
    "version": 3
   },
   "file_extension": ".py",
   "mimetype": "text/x-python",
   "name": "python",
   "nbconvert_exporter": "python",
   "pygments_lexer": "ipython3",
   "version": "3.9.7"
  }
 },
 "nbformat": 4,
 "nbformat_minor": 5
}
